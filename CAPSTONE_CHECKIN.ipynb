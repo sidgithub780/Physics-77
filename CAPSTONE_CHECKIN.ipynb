{
  "nbformat": 4,
  "nbformat_minor": 0,
  "metadata": {
    "colab": {
      "name": "testing.ipynb",
      "provenance": []
    },
    "kernelspec": {
      "name": "python3",
      "display_name": "Python 3"
    },
    "language_info": {
      "name": "python"
    }
  },
  "cells": [
    {
      "cell_type": "code",
      "execution_count": null,
      "metadata": {
        "colab": {
          "base_uri": "https://localhost:8080/",
          "height": 236
        },
        "id": "YmI5LGpH3k6o",
        "outputId": "ee513f8c-01a1-423a-ba26-c3e8e7b2c6fa"
      },
      "outputs": [
        {
          "output_type": "error",
          "ename": "FileNotFoundError",
          "evalue": "ignored",
          "traceback": [
            "\u001b[0;31m---------------------------------------------------------------------------\u001b[0m",
            "\u001b[0;31mFileNotFoundError\u001b[0m                         Traceback (most recent call last)",
            "\u001b[0;32m<ipython-input-1-20a53922ad6b>\u001b[0m in \u001b[0;36m<module>\u001b[0;34m()\u001b[0m\n\u001b[1;32m      1\u001b[0m \u001b[0;32mimport\u001b[0m \u001b[0mcsv\u001b[0m\u001b[0;34m\u001b[0m\u001b[0;34m\u001b[0m\u001b[0m\n\u001b[0;32m----> 2\u001b[0;31m \u001b[0mf_csv\u001b[0m \u001b[0;34m=\u001b[0m \u001b[0mopen\u001b[0m\u001b[0;34m(\u001b[0m \u001b[0;34m'Sunspots.csv'\u001b[0m\u001b[0;34m,\u001b[0m \u001b[0;34m'r+'\u001b[0m\u001b[0;34m)\u001b[0m\u001b[0;34m\u001b[0m\u001b[0;34m\u001b[0m\u001b[0m\n\u001b[0m\u001b[1;32m      3\u001b[0m \u001b[0mfinal_csv\u001b[0m \u001b[0;34m=\u001b[0m \u001b[0mopen\u001b[0m\u001b[0;34m(\u001b[0m\u001b[0;34m'final.csv'\u001b[0m\u001b[0;34m,\u001b[0m \u001b[0;34m'w'\u001b[0m\u001b[0;34m)\u001b[0m\u001b[0;34m\u001b[0m\u001b[0;34m\u001b[0m\u001b[0m\n\u001b[1;32m      4\u001b[0m \u001b[0mreadCity\u001b[0m \u001b[0;34m=\u001b[0m \u001b[0mcsv\u001b[0m\u001b[0;34m.\u001b[0m\u001b[0mreader\u001b[0m\u001b[0;34m(\u001b[0m \u001b[0mf_csv\u001b[0m\u001b[0;34m,\u001b[0m \u001b[0mdelimiter\u001b[0m \u001b[0;34m=\u001b[0m \u001b[0;34m','\u001b[0m \u001b[0;34m)\u001b[0m\u001b[0;34m\u001b[0m\u001b[0;34m\u001b[0m\u001b[0m\n\u001b[1;32m      5\u001b[0m \u001b[0mwriter\u001b[0m \u001b[0;34m=\u001b[0m \u001b[0mcsv\u001b[0m\u001b[0;34m.\u001b[0m\u001b[0mwriter\u001b[0m\u001b[0;34m(\u001b[0m\u001b[0mfinal_csv\u001b[0m\u001b[0;34m)\u001b[0m\u001b[0;34m\u001b[0m\u001b[0;34m\u001b[0m\u001b[0m\n",
            "\u001b[0;31mFileNotFoundError\u001b[0m: [Errno 2] No such file or directory: 'Sunspots.csv'"
          ]
        }
      ],
      "source": [
        "import csv\n",
        "f_csv = open( 'Sunspots.csv', 'r+')\n",
        "final_csv = open('final.csv', 'w')\n",
        "readCity = csv.reader( f_csv, delimiter = ',' )\n",
        "writer = csv.writer(final_csv)\n",
        "#writec = csv.writer(f_csv)\n",
        "# The following line is how we skip a line in a csv. It is the equivalent of readline from before.\n",
        "next(readCity) # skip the header row\n",
        "dates = []\n",
        "start = False\n",
        "header = ['dates']\n",
        "for row in readCity:\n",
        "    \n",
        "    row[1] = row[1].replace(\"/\", \"-\")\n",
        "   \n",
        "    if row[1] == \"1-31-1900\":\n",
        "        start = True\n",
        "    if  (start):\n",
        "        length = len(row[1])\n",
        "        #print(row[1][-4:])\n",
        "        pt1 = row[1][-4:]\n",
        "        pt2 = \"-\"\n",
        "        pt3 = row[1][-7:-5]\n",
        "        if length  == 9:\n",
        "            \n",
        "            pt4 = \"0\" + row[1][0]\n",
        "        elif length == 10:\n",
        "            pt4 = row[1][0:2]\n",
        "        row[1] = (pt1+pt2+pt4+pt2+pt3)\n",
        "    \n",
        "    dates.append([row[1], row[2]])\n",
        "    \n",
        "\n",
        "print(dates)\n",
        "\n",
        "writer.writerows(dates)\n",
        "\n",
        "f_csv.close()   \n",
        "final_csv.close()\n",
        "\n"
      ]
    }
  ]
}