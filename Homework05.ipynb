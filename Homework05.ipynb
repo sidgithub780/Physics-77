{
 "cells": [
  {
   "cell_type": "markdown",
   "metadata": {},
   "source": [
    "Siddhanth Kumar  \n",
    "Section 102 "
   ]
  },
  {
   "cell_type": "markdown",
   "metadata": {},
   "source": [
    "## Homework 5: Fitting"
   ]
  },
  {
   "cell_type": "markdown",
   "metadata": {},
   "source": [
    "Please complete this homework assignment in code cells in the iPython notebook. Include comments in your code when necessary.  Please rename the notebook as SIS ID_HW05.ipynb (your student ID number) and save the notebook once you have executed it as a PDF  (note, that when saving as PDF you don't want to use the option with latex because it crashes, but rather the one to save it directly as a PDF). \n",
    "\n",
    "**The homework should be submitted on bCourses under the Assignments tab (both the .ipynb and .pdf files). Please label it by your student ID number (SIS ID)**"
   ]
  },
  {
   "cell_type": "markdown",
   "metadata": {},
   "source": [
    "## Problem 1: Optical Pumping experiment\n",
    "\n",
    "One of the experiments in the 111B (111-ADV) lab is the study of the optical pumping of atomic rubidium. In that experiment, we measure the resonant frequency of a Zeeman transition as a function of the applied current (local magnetic field). Consider a mock data set:\n",
    "<table border=\"1\" align=\"center\">\n",
    "\n",
    "<tr>\n",
    "<td>Current <i>I</i> (Amps)\n",
    "</td><td>0.0 </td><td> 0.2 </td><td> 0.4 </td><td> 0.6 </td><td> 0.8 </td><td> 1.0 </td><td> 1.2 </td><td> 1.4 </td><td> 1.6 </td><td> 1.8 </td><td> 2.0 </td><td> 2.2\n",
    "</td></tr>\n",
    "<tr>\n",
    "<td>Frequency <i>f</i> (MHz)\n",
    "</td><td> 0.14 </td><td> 0.60 </td><td> 1.21 </td><td> 1.74 </td><td> 2.47 </td><td> 3.07 </td><td> 3.83 </td><td> 4.16 </td><td> 4.68 </td><td> 5.60 </td><td> 6.31 </td><td> 6.78\n",
    "</td></tr></table>\n",
    "\n",
    "1. Plot a graph of the pairs of values. Assuming a linear relationship between $I$ and $f$, determine the slope and the intercept of the best-fit line using the least-squares method with equal weights, and draw the best-fit line through the data points in the graph.\n",
    "1. From what s/he knows about the equipment used to measure the resonant frequency, your lab partner hastily estimates the uncertainty in the measurement of $f$ to be $\\sigma(f) = 0.01$ MHz. Estimate the probability that the straight line you found is an adequate description of the observed data if it is distributed with the uncertainty guessed by your lab partner. (Hint: use scipy.stats.chi2 class to compute the quantile of the chi2 distribution).  What can you conclude from these results? \n",
    "1. Repeat the analysis assuming your partner estimated the uncertainty to be $\\sigma(f) = 1$ MHz. What can you conclude from these results?\n",
    "1. Assume that the best-fit line found in Part 1 is a good fit to the data. Estimate the uncertainty in measurement of $y$ from the scatter of the observed data about this line. Again, assume that all the data points have equal weight. Use this to estimate the uncertainty in both the slope and the intercept of the best-fit line. This is the technique you will use in the Optical Pumping lab to determine the uncertainties in the fit parameters.\n",
    "1. Now assume that the uncertainty in each value of $f$ grows with $f$: $\\sigma(f) = 0.03 + 0.03 * f$ (MHz). Determine the slope and the intercept of the best-fit line using the least-squares method with unequal weights (weighted least-squares fit)\n"
   ]
  },
  {
   "cell_type": "code",
   "execution_count": 2,
   "metadata": {},
   "outputs": [],
   "source": [
    "import numpy as np\n",
    "import matplotlib.pyplot as plt\n",
    "from numpy.linalg import *\n",
    "from scipy.stats import chi2\n",
    "import scipy.optimize as fitter\n",
    "\n",
    "# Use current as the x-variable in your plots/fitting\n",
    "current = np.arange(0, 2.3, .2)  # Amps\n",
    "frequency = np.array([.14, .6, 1.21, 1.74, 2.47, 3.07, 3.83, 4.16, 4.68, 5.6, 6.31, 6.78]) # MHz\n"
   ]
  },
  {
   "cell_type": "code",
   "execution_count": 17,
   "metadata": {},
   "outputs": [
    {
     "name": "stdout",
     "output_type": "stream",
     "text": [
      "1. The best fit with equal weights estimate for the slope is  3.072+/-0.053\n",
      "1. The best fit with equal weights estimate for the intercept is 0.0038+/-0.0686\n"
     ]
    },
    {
     "data": {
      "image/png": "[encoded data removed]",
      "text/plain": [
       "<Figure size 432x288 with 1 Axes>"
      ]
     },
     "metadata": {
      "needs_background": "light"
     },
     "output_type": "display_data"
    }
   ],
   "source": [
    "def linear_model(x, slope, intercept):\n",
    "    '''Model function to use with curve_fit();\n",
    "       it should take the form of a line'''\n",
    "    calc = (slope * x) + intercept\n",
    "    return calc\n",
    "\n",
    "\n",
    "par, cov = fitter.curve_fit(linear_model, current, frequency)\n",
    "\n",
    "# The best-fit value for a0 is the first element of the returned parameters\n",
    "a0 = par[0]\n",
    "# And the error estimate is the first diagonal element (row 0, column 0) of the covariance matrix\n",
    "error_a0 = np.sqrt(cov[0,0])\n",
    "print('1. The best fit with equal weights estimate for the slope is {0:6.3f}+/-{1:5.3f}'.format(a0, error_a0))\n",
    "\n",
    "\n",
    "# The best-fit value for a1 is the second element of the returned parameters\n",
    "a1 = par[1]\n",
    "# And the error estimate is the second diagonal element (row 1, column 1) of the covariance matrix\n",
    "error_a1 = np.sqrt(cov[1,1])\n",
    "print('1. The best fit with equal weights estimate for the intercept is {0:.4f}+/-{1:.4f}'.format(a1, error_a1))\n",
    "\n",
    "\n",
    "# Use fitter.curve_fit() to get the line of best fit\n",
    "# Plot this line, along with the data points -- remember to label\n",
    "\n",
    "plt.plot(current, frequency)\n",
    "xfit = np.linspace(0,2.2,50)\n",
    "plt.plot(xfit,linear_model(xfit, *par),'r-')\n",
    "plt.legend(['Data', 'Fit'])\n",
    "plt.xlabel('Current (A)')\n",
    "plt.ylabel('Frequency (MHz)')\n",
    "plt.title('Resonant frequency of Zeeman transition')\n",
    "plt.show()\n",
    "\n",
    "\n"
   ]
  },
  {
   "cell_type": "code",
   "execution_count": 10,
   "metadata": {},
   "outputs": [
    {
     "name": "stdout",
     "output_type": "stream",
     "text": [
      "chi^2 is 1595.80069930071\n",
      "2. Probability: 0.0\n",
      "\n",
      " \n",
      "\n",
      "chi^2 is 0.15958006993007098\n",
      "3. Probability: 0.9999999747818858\n"
     ]
    }
   ],
   "source": [
    "chi_squared = np.sum(((linear_model(current, *par)-frequency)/0.01)**2) \n",
    "print ('chi^2 is {0}'.format(chi_squared))\n",
    "\n",
    "prob = 1-chi2.cdf(chi_squared, len(current)-len(par))\n",
    "print('2. Probability: {0}'.format(prob))\n",
    "\n",
    "print('\\n \\n')\n",
    "\n",
    "chi_squared = np.sum(((linear_model(current, *par)-frequency)/1)**2) \n",
    "print ('chi^2 is {0}'.format(chi_squared))\n",
    "\n",
    "prob = 1-chi2.cdf(chi_squared, len(current)-len(par))\n",
    "print('3. Probability: {0}'.format(prob))"
   ]
  },
  {
   "cell_type": "code",
   "execution_count": 15,
   "metadata": {},
   "outputs": [
    {
     "name": "stdout",
     "output_type": "stream",
     "text": [
      "4. My error estimate is 0.1153184250709281\n",
      "The corresponding uncertainty in the slope of the best fit line is 0.05281866102119263\n",
      "The corresponding uncertainty in the intercept of the best fit line is 0.06859677291919392\n"
     ]
    },
    {
     "data": {
      "image/png": "[encoded data removed]",
      "text/plain": [
       "<Figure size 432x288 with 1 Axes>"
      ]
     },
     "metadata": {
      "needs_background": "light"
     },
     "output_type": "display_data"
    }
   ],
   "source": [
    "x_i  = linear_model(current,*par) - frequency\n",
    "RMS = np.sum(1/len(x_i) * ( x_i ) **2 ) **0.5\n",
    "\n",
    "print('4. My error estimate is {}'.format(RMS))\n",
    "\n",
    "errorArray = np.ones(len(current)) * RMS\n",
    "\n",
    "\n",
    "\n",
    "\n",
    "par, cov = fitter.curve_fit(linear_model, current, frequency, sigma=errorArray)\n",
    "\n",
    "# The best-fit value for a0 is the first element of the returned parameters\n",
    "a0 = par[0]\n",
    "# And the error estimate is the first diagonal element (row 0, column 0) of the covariance matrix\n",
    "error_a0 = np.sqrt(cov[0,0])\n",
    "print('The corresponding uncertainty in the slope of the best fit line is {0}'.format(error_a0))\n",
    "\n",
    "\n",
    "# The best-fit value for a1 is the second element of the returned parameters\n",
    "a1 = par[1]\n",
    "# And the error estimate is the second diagonal element (row 1, column 1) of the covariance matrix\n",
    "error_a1 = np.sqrt(cov[1,1])\n",
    "print('The corresponding uncertainty in the intercept of the best fit line is {0}'.format(error_a1))\n",
    "\n",
    "chi_squared = np.sum(((linear_model(current, *par)-frequency)/0.01)**2) \n",
    "#print ('chi^2 = {0:5.4f}'.format(chi_squared))\n",
    "\n",
    "prob = 1-chi2.cdf(chi_squared, len(current)-len(par))\n",
    "#print('Probability: {0}'.format(prob))\n",
    "\n",
    "chi_squared = np.sum(((linear_model(current, *par)-frequency)/1)**2) \n",
    "#print ('chi^2 = {0:5.4f}'.format(chi_squared))\n",
    "\n",
    "prob = 1-chi2.cdf(chi_squared, len(current)-len(par))\n",
    "#print('Probability: {0}'.format(prob))\n",
    "\n",
    "# Use fitter.curve_fit() to get the line of best fit\n",
    "# Plot this line, along with the data points -- remember to label\n",
    "\n",
    "plt.plot(current, frequency)\n",
    "xfit = np.linspace(0,2.2,50)\n",
    "plt.plot(xfit,linear_model(xfit, *par),'r-')\n",
    "plt.legend(['Data', 'Fit'])\n",
    "plt.xlabel('Current (A)')\n",
    "plt.ylabel('Frequency (MHz)')\n",
    "plt.show()\n"
   ]
  },
  {
   "cell_type": "code",
   "execution_count": 19,
   "metadata": {},
   "outputs": [
    {
     "name": "stdout",
     "output_type": "stream",
     "text": [
      "5. The best fit with unequal weights estimate for the slope is 2.975704590128536+/-0.05440328118255964\n",
      "5. The best fit with unequal weights estimate for the intercept is 0.08020842685419302+/-0.03268598759680482\n"
     ]
    },
    {
     "data": {
      "image/png": "[encoded data removed]",
      "text/plain": [
       "<Figure size 432x288 with 1 Axes>"
      ]
     },
     "metadata": {
      "needs_background": "light"
     },
     "output_type": "display_data"
    }
   ],
   "source": [
    "sigma = []\n",
    "\n",
    "for value in frequency:\n",
    "    sigma.append(0.03 + (0.03 * value))\n",
    "\n",
    "par, cov = fitter.curve_fit(linear_model, current, frequency, sigma=sigma)\n",
    "\n",
    "# The best-fit value for a0 is the first element of the returned parameters\n",
    "a0 = par[0]\n",
    "# And the error estimate is the first diagonal element (row 0, column 0) of the covariance matrix\n",
    "error_a0 = np.sqrt(cov[0,0])\n",
    "print('5. The best fit with unequal weights estimate for the slope is {0}+/-{1}'.format(a0, error_a0))\n",
    "\n",
    "\n",
    "# The best-fit value for a1 is the second element of the returned parameters\n",
    "a1 = par[1]\n",
    "# And the error estimate is the second diagonal element (row 1, column 1) of the covariance matrix\n",
    "error_a1 = np.sqrt(cov[1,1])\n",
    "print('5. The best fit with unequal weights estimate for the intercept is {0}+/-{1}'.format(a1, error_a1))\n",
    "\n",
    "chi_squared = np.sum(((linear_model(current, *par)-frequency)/0.01)**2) \n",
    "#print ('chi^2 = {0:5.4f}'.format(chi_squared))\n",
    "\n",
    "prob = 1-chi2.cdf(chi_squared, len(current)-len(par))\n",
    "#print('Probability: {0}'.format(prob))\n",
    "\n",
    "chi_squared = np.sum(((linear_model(current, *par)-frequency)/1)**2) \n",
    "#print ('chi^2 = {0:5.4f}'.format(chi_squared))\n",
    "\n",
    "prob = 1-chi2.cdf(chi_squared, len(current)-len(par))\n",
    "#print('Probability: {0}'.format(prob))\n",
    "\n",
    "# Use fitter.curve_fit() to get the line of best fit\n",
    "# Plot this line, along with the data points -- remember to label\n",
    "\n",
    "plt.plot(current, frequency)\n",
    "xfit = np.linspace(0,2.2,50)\n",
    "plt.plot(xfit,linear_model(xfit, *par),'r-')\n",
    "plt.legend(['Data', 'Fit'])\n",
    "plt.xlabel('Current (A)')\n",
    "plt.ylabel('Frequency (MHz)')\n",
    "plt.show()"
   ]
  },
  {
   "cell_type": "markdown",
   "metadata": {},
   "source": [
    "The rest is pretty short, but the statistics might be a bit complicated.  Ask questions if you need advice or help.  Next, the problem is basically asking you to compute the $\\chi^2$ for the above fit twice, once with $0.01$ as the error for each point (in the 'denominator' of the $\\chi^2$ formula) and once with $1$.  \n",
    "\n",
    "These values can then be compared to a \"range of acceptable $\\chi^2$ values\", found with `scipy.stats.chi2.ppf()` -- which takes two inputs.  The second input should be the number of degrees of freedom used during fitting (# data points minus the 2 free parameters).  The first input should be something like $0.05$ and $0.95$ (one function call of `scipy.stats.chi2.ppf()` for each endpoint fo the acceptable range).  If the calculated $\\chi^2$ statistic falls within this range, then the assumed uncertainty is reasonable."
   ]
  },
  {
   "cell_type": "code",
   "execution_count": null,
   "metadata": {},
   "outputs": [],
   "source": []
  },
  {
   "cell_type": "markdown",
   "metadata": {},
   "source": [
    "Now, estimate the uncertainty in the frequency measurements, and use this to find the uncertainty in the best-fit parameters.  [This document](https://pages.mtu.edu/~fmorriso/cm3215/UncertaintySlopeInterceptOfLeastSquaresFit.pdf) is a good resource for learning to propagate errors in the context of linear fitting.\n"
   ]
  },
  {
   "cell_type": "code",
   "execution_count": null,
   "metadata": {},
   "outputs": [],
   "source": []
  },
  {
   "cell_type": "markdown",
   "metadata": {},
   "source": [
    "Finally, repeat the fitting with the weighted errors (from the $\\sigma(f)$ uncertainty formula) given to `scipy.optimize.curve_fit()`"
   ]
  },
  {
   "cell_type": "code",
   "execution_count": null,
   "metadata": {},
   "outputs": [],
   "source": []
  }
 ],
 "metadata": {
  "kernelspec": {
   "display_name": "Python 3 (ipykernel)",
   "language": "python",
   "name": "python3"
  },
  "language_info": {
   "codemirror_mode": {
    "name": "ipython",
    "version": 3
   },
   "file_extension": ".py",
   "mimetype": "text/x-python",
   "name": "python",
   "nbconvert_exporter": "python",
   "pygments_lexer": "ipython3",
   "version": "3.9.13"
  }
 },
 "nbformat": 4,
 "nbformat_minor": 4
}
